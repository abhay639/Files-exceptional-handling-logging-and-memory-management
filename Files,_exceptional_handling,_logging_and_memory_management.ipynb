{
  "nbformat": 4,
  "nbformat_minor": 0,
  "metadata": {
    "colab": {
      "provenance": []
    },
    "kernelspec": {
      "name": "python3",
      "display_name": "Python 3"
    },
    "language_info": {
      "name": "python"
    }
  },
  "cells": [
    {
      "cell_type": "markdown",
      "source": [
        "**01. What is the difference between interpreted and compiled languages ?**\n",
        "\n",
        "->\n",
        "**INTERPRETED** -\n",
        "\n",
        "Translates and executes code line-by-line at runtime.\n",
        "\n",
        "Slower, as translation happens during execution.\n",
        "\n",
        "Errors are detected at runtime, line-by-line.\n",
        "\n",
        "More portable, requires only the interpreter on any system.\n",
        "\n",
        "Python, JavaScript, Ruby.\n",
        "\n",
        "**COMPILED** -\n",
        "\n",
        "Translates the entire code into machine code before execution.\n",
        "\n",
        "Faster, since the code is pre-compiled.\n",
        "\n",
        "Detects most errors at compile-time.\n",
        "\n",
        "Produces platform-dependent binaries.\n",
        "\n",
        "C, C++, Rust, Go."
      ],
      "metadata": {
        "id": "H-1vIny7Wdad"
      }
    },
    {
      "cell_type": "markdown",
      "source": [
        "**02. What is exception handling in Python ?**\n",
        "\n",
        "->\n",
        "It's the process of handling runtime errors using try, except, finally."
      ],
      "metadata": {
        "id": "KIISG6OgYBlu"
      }
    },
    {
      "cell_type": "code",
      "source": [
        "#EXAMPLE\n",
        "try:\n",
        "    result = 10 / 0\n",
        "except ZeroDivisionError:\n",
        "    print(\"Cannot divide by zero!\")"
      ],
      "metadata": {
        "colab": {
          "base_uri": "https://localhost:8080/"
        },
        "id": "tWlGE82LYApq",
        "outputId": "27c673b3-6707-4949-cf20-290f08907903"
      },
      "execution_count": 1,
      "outputs": [
        {
          "output_type": "stream",
          "name": "stdout",
          "text": [
            "Cannot divide by zero!\n"
          ]
        }
      ]
    },
    {
      "cell_type": "markdown",
      "source": [
        "**03. What is the purpose of the finally block in exception handling ?**\n",
        "\n",
        "->\n",
        "The finally block is used to define a section of code that always executes, regardless of whether an exception occurred or not. It's typically used for cleanup actions like closing files, releasing resources, or disconnecting from networks or databases."
      ],
      "metadata": {
        "id": "jtiUXBu6YYh1"
      }
    },
    {
      "cell_type": "code",
      "source": [
        "#EXAMPLE\n",
        "try:\n",
        "    file = open(\"example.txt\", \"r\")\n",
        "    data = file.read()\n",
        "    print(data)\n",
        "except FileNotFoundError:\n",
        "    print(\"File not found!\")\n",
        "finally:\n",
        "    print(\"Closing the file (if it was opened).\")\n",
        "    try:\n",
        "        file.close()\n",
        "    except NameError:\n",
        "        pass  # file was never opened due to the error"
      ],
      "metadata": {
        "colab": {
          "base_uri": "https://localhost:8080/"
        },
        "id": "BfactkH3YtF1",
        "outputId": "35a1c7de-e1c7-4577-b003-efb40c9a322d"
      },
      "execution_count": 9,
      "outputs": [
        {
          "output_type": "stream",
          "name": "stdout",
          "text": [
            "File not found!\n",
            "Closing the file (if it was opened).\n"
          ]
        }
      ]
    },
    {
      "cell_type": "markdown",
      "source": [
        "**04. What is logging in Python ?**\n",
        "\n",
        "->\n",
        "Logging in Python is the process of recording messages that describe events that happen while a program runs. These messages can help developers track the flow, debug issues, and monitor the application's behavior in real time or after deployment."
      ],
      "metadata": {
        "id": "lZUaLAxKaojG"
      }
    },
    {
      "cell_type": "code",
      "source": [
        "#EXAMPLE\n",
        "import logging\n",
        "\n",
        "logging.basicConfig(level=logging.INFO)\n",
        "logging.info(\"This is an informational message.\")"
      ],
      "metadata": {
        "id": "Mv4S6n6gYvz-"
      },
      "execution_count": 11,
      "outputs": []
    },
    {
      "cell_type": "markdown",
      "source": [
        "**05. What is the significance of the __del__ method in Python ?**\n",
        "\n",
        "->\n",
        "The __del__ method in Python is a special method called a destructor. It is automatically invoked when an object is about to be destroyed, i.e., when it is garbage collected.\n",
        "\n",
        "You cannot guarantee exactly when __del__() will be called — it depends on when the object is garbage collected.\n",
        "\n",
        "Avoid relying on it for critical cleanup; use context managers (with statement) instead."
      ],
      "metadata": {
        "id": "1HQ0pyX3cDHg"
      }
    },
    {
      "cell_type": "code",
      "source": [
        "#EXAMPLE\n",
        "class FileHandler:\n",
        "    def __init__(self, filename):\n",
        "        self.file = open(filename, 'w')\n",
        "        print(\"File opened.\")\n",
        "\n",
        "    def __del__(self):\n",
        "        self.file.close()\n",
        "        print(\"File closed.\")\n",
        "\n",
        "handler = FileHandler(\"sample.txt\")\n",
        "# When `handler` goes out of scope or is deleted, __del__ is called"
      ],
      "metadata": {
        "colab": {
          "base_uri": "https://localhost:8080/"
        },
        "id": "bZVvBbRIcLbM",
        "outputId": "6ec6ccee-f844-4ab5-98e4-7ac0eda2905e"
      },
      "execution_count": 12,
      "outputs": [
        {
          "output_type": "stream",
          "name": "stdout",
          "text": [
            "File opened.\n"
          ]
        }
      ]
    },
    {
      "cell_type": "markdown",
      "source": [
        "**06. What is the difference between import and from ... import in Python ?**\n",
        "\n",
        "->\n",
        "**import module -**\n",
        "\n",
        "Imports the entire module into your program.\n",
        "\n",
        "You must use the module name to access its functions/variables (e.g., math.sqrt()).\n",
        "\n",
        "Keeps your namespace clean (no risk of name conflicts).\n",
        "\n",
        "Slightly slower to write, but more readable and avoids ambiguity.\n",
        "\n",
        "Preferred when you need multiple functions or classes from the same module."
      ],
      "metadata": {
        "id": "6-BoazyFcX0w"
      }
    },
    {
      "cell_type": "code",
      "source": [
        "#EXAMPLE\n",
        "import math\n",
        "print(math.sqrt(16))  # Module prefix is required"
      ],
      "metadata": {
        "colab": {
          "base_uri": "https://localhost:8080/"
        },
        "id": "sZ_hqYKJylb8",
        "outputId": "0546ff5f-acf6-41af-82d3-ccdc18fe2e6f"
      },
      "execution_count": 1,
      "outputs": [
        {
          "output_type": "stream",
          "name": "stdout",
          "text": [
            "4.0\n"
          ]
        }
      ]
    },
    {
      "cell_type": "markdown",
      "source": [
        "->\n",
        "**from module import name -**\n",
        "\n",
        "Imports specific items from a module (e.g., just one function or class).\n",
        "\n",
        "You can use the imported item directly without module prefix (e.g., sqrt()).\n",
        "\n",
        "Saves typing when using the same function often.\n",
        "\n",
        "Can lead to name conflicts if different modules have functions with the same name.\n",
        "\n",
        "Better when you only need a small part of a large module."
      ],
      "metadata": {
        "id": "WmgFo6vDyp5T"
      }
    },
    {
      "cell_type": "code",
      "source": [
        "#EXAMPLE\n",
        "from math import sqrt\n",
        "print(sqrt(16))  # Direct use without module name"
      ],
      "metadata": {
        "colab": {
          "base_uri": "https://localhost:8080/"
        },
        "id": "PpUy_0YDy3cN",
        "outputId": "ddd6c3c9-df41-4994-ac2a-2c55208551ff"
      },
      "execution_count": 2,
      "outputs": [
        {
          "output_type": "stream",
          "name": "stdout",
          "text": [
            "4.0\n"
          ]
        }
      ]
    },
    {
      "cell_type": "markdown",
      "source": [
        "**07. How can you handle multiple exceptions in Python ?**\n",
        "\n",
        "->\n",
        "In Python, you can handle multiple exceptions using either:\n",
        "\n",
        "1. ** Multiple except Blocks** -\n",
        "Handle different exceptions with separate logic.\n",
        "\n",
        "2. **Single except with a Tuple** -\n",
        "Catch multiple related exceptions in one block.\n",
        "\n",
        "3. **Catch-All except Exception** -\n",
        "Catch any exception type as a fallback (use cautiously).\n",
        "\n",
        "4. **else Block** -\n",
        "Runs if no exceptions occur.\n",
        "\n",
        "5. **finally Block** -\n",
        "Runs no matter what — ideal for cleanup."
      ],
      "metadata": {
        "id": "EpfA0rOSzBIw"
      }
    },
    {
      "cell_type": "code",
      "source": [
        "#EXAMPLE\n",
        "try:\n",
        "    num = int(\"abc\")      # ValueError\n",
        "    result = 10 / 0        # ZeroDivisionError\n",
        "except ValueError:\n",
        "    print(\"Caught ValueError\")\n",
        "except ZeroDivisionError:\n",
        "    print(\"Caught ZeroDivisionError\")\n",
        "except Exception as e:\n",
        "    print(\"Caught general exception:\", e)\n",
        "else:\n",
        "    print(\"No exception occurred.\")\n",
        "finally:\n",
        "    print(\"This always runs (cleanup).\")"
      ],
      "metadata": {
        "colab": {
          "base_uri": "https://localhost:8080/"
        },
        "id": "53AlI7Zay-eQ",
        "outputId": "b9d98491-8575-4f43-94f1-5d8bf708e650"
      },
      "execution_count": 3,
      "outputs": [
        {
          "output_type": "stream",
          "name": "stdout",
          "text": [
            "Caught ValueError\n",
            "This always runs (cleanup).\n"
          ]
        }
      ]
    },
    {
      "cell_type": "markdown",
      "source": [
        "**08. What is the purpose of the with statement when handling files in Python ?**\n",
        "\n",
        "->\n",
        "The with statement in Python is used for resource management, especially for handling files. It ensures that resources like files are properly opened and closed, even if an error occurs during file operations.\n",
        "\n",
        "**Automatic File Closing**\n",
        "\n",
        "Closes the file automatically when the block is exited — no need to call file.close() manually.\n",
        "\n",
        "**Cleaner and More Readable Code**\n",
        "\n",
        "Less boilerplate code; avoids forgetting to close files.\n",
        "\n",
        "**Exception Safe**\n",
        "\n",
        "Even if an exception is raised, the file is still closed properly.\n",
        "\n",
        "**Better Resource Management**\n",
        "\n",
        "Frees up system resources immediately after file use.\n",
        "\n",
        "**Recommended Pythonic Practice**\n",
        "\n",
        "Preferred way to handle file I/O in modern Python."
      ],
      "metadata": {
        "id": "E1g7U9lx0iOe"
      }
    },
    {
      "cell_type": "markdown",
      "source": [
        "**09. What is the difference between multithreading and multiprocessing ?**\n",
        "\n",
        "->\n",
        "**Multithreading -**\n",
        "\n",
        "Runs multiple threads within a single process, sharing the same memory space.\n",
        "\n",
        "Threads share the same memory, making it lightweight and efficient for resource sharing.\n",
        "\n",
        "Ideal for I/O-bound tasks such as reading files, making API requests, or handling user inputs.\n",
        "\n",
        "In CPython, the GIL allows only one thread to execute at a time, limiting CPU-bound performance.\n",
        "\n",
        "Can appear faster for I/O tasks due to context switching, but not ideal for CPU-heavy operations.\n",
        "\n",
        "Easier to create, but harder to debug due to shared memory and potential race conditions."
      ],
      "metadata": {
        "id": "gsLFCwyG2NO2"
      }
    },
    {
      "cell_type": "code",
      "source": [
        "#Use Case Example:\n",
        "import threading\n",
        "\n",
        "def task():\n",
        "    print(\"Thread working\")\n",
        "\n",
        "t1 = threading.Thread(target=task)\n",
        "t1.start()"
      ],
      "metadata": {
        "colab": {
          "base_uri": "https://localhost:8080/"
        },
        "id": "gA3WeU2W3cGP",
        "outputId": "9f54a52c-0e66-4fbd-f092-cf9fbc6f3735"
      },
      "execution_count": 8,
      "outputs": [
        {
          "output_type": "stream",
          "name": "stdout",
          "text": [
            "Thread working\n"
          ]
        }
      ]
    },
    {
      "cell_type": "markdown",
      "source": [
        "->\n",
        "**Multiprocessing -**\n",
        "\n",
        "Runs multiple independent processes, each with its own Python interpreter and memory space.\n",
        "\n",
        "Separate memory for each process; more memory consumption but avoids conflicts.\n",
        "\n",
        "Ideal for CPU-bound tasks like data analysis, image processing, or complex math.\n",
        "\n",
        "Each process runs on its own core; avoids GIL and allows true parallelism.\n",
        "\n",
        "Faster than threading for CPU-intensive work, as each process can fully utilize a CPU core.\n",
        "\n",
        "Slightly more overhead due to inter-process communication, but safer and more stable."
      ],
      "metadata": {
        "id": "aYY5vr9O3gNT"
      }
    },
    {
      "cell_type": "code",
      "source": [
        "#Use Case Example:\n",
        "\n",
        "import multiprocessing\n",
        "\n",
        "def task():\n",
        "    print(\"Process working\")\n",
        "\n",
        "p1 = multiprocessing.Process(target=task)\n",
        "p1.start()"
      ],
      "metadata": {
        "id": "pk9FZCpW3vtn"
      },
      "execution_count": 13,
      "outputs": []
    },
    {
      "cell_type": "markdown",
      "source": [
        "**10. What are the advantages of using logging in a program ?**\n",
        "\n",
        "->\n",
        "Logging provides a structured way to record events, errors, and runtime behavior of a program. It is far superior to using print() for debugging or monitoring.\n",
        "\n",
        "**Tracks Program Execution**\n",
        "\n",
        "Helps understand what happened and when by capturing real-time information about how the program runs.\n",
        "\n",
        "**Helps with Debugging**\n",
        "\n",
        "Logs detailed error messages, variable values, and function flow to quickly identify and fix bugs.\n",
        "\n",
        "**Records Errors Automatically**\n",
        "\n",
        "Captures exceptions, stack traces, and system errors in a consistent way.\n",
        "\n",
        "**Supports Multiple Logging Levels**\n",
        "\n",
        "Allows different levels like DEBUG, INFO, WARNING, ERROR, and CRITICAL for fine-grained control over what is logged.\n",
        "\n",
        "**Logs to Multiple Destinations**\n",
        "\n",
        "Logs can be saved to files, sent to the console, remote servers, email, or even databases.\n",
        "\n",
        "**Better Than print()**\n",
        "\n",
        "Logging can be toggled on/off, formatted, rotated, filtered, and controlled — unlike hardcoded print() statements.\n",
        "\n",
        "**Essential for Production Systems**\n",
        "\n",
        "Keeps a persistent record of system activity, which is vital for monitoring, troubleshooting, and auditing after deployment."
      ],
      "metadata": {
        "id": "LVajJCBw3_bb"
      }
    },
    {
      "cell_type": "code",
      "source": [
        "#EXAMPLE\n",
        "import logging\n",
        "\n",
        "logging.basicConfig(level=logging.INFO, filename='app.log')\n",
        "logging.info(\"Application started\")\n",
        "logging.warning(\"Low disk space\")\n",
        "logging.error(\"An error occurred\")"
      ],
      "metadata": {
        "colab": {
          "base_uri": "https://localhost:8080/"
        },
        "id": "aA81XCYC-bGD",
        "outputId": "6cc3f0b6-2ca8-4eb1-8b1d-d753eb656c90"
      },
      "execution_count": 14,
      "outputs": [
        {
          "output_type": "stream",
          "name": "stderr",
          "text": [
            "WARNING:root:Low disk space\n",
            "ERROR:root:An error occurred\n"
          ]
        }
      ]
    },
    {
      "cell_type": "markdown",
      "source": [
        "**11. What is memory management in Python ?**\n",
        "\n",
        "->\n",
        "Memory management refers to how Python handles the allocation, usage, and release of memory during the execution of a program. Python's memory management is automated and built into the language, which means developers don’t usually need to worry about manually allocating or freeing memory, unlike in languages such as C or C++.\n",
        "\n",
        "**Automatic memory management -**\n",
        "\n",
        "Memory is allocated and freed automatically\n",
        "\n",
        "**Reference counting -**\n",
        "Keeps track of how many references point to an object\n",
        "\n",
        "**Garbage collection -** Cleans up cyclic references that reference counting misses\n",
        "\n",
        "**pymalloc -**\tEfficient memory pool for small objects.\n",
        "\n",
        "**Dynamic typing -**\tMemory allocated based on runtime type\n",
        "\n",
        "**Interning -**\tReuses common immutable objects to save memory\n",
        "\n",
        "**Monitoring tools -**\n",
        "Modules like gc, sys, and tracemalloc for analysis."
      ],
      "metadata": {
        "id": "t9o9PYDS-evV"
      }
    },
    {
      "cell_type": "code",
      "source": [
        "#EXAMPLE\n",
        "import sys\n",
        "\n",
        "a = []\n",
        "print(sys.getrefcount(a))  # Shows how many references to `a` exist"
      ],
      "metadata": {
        "colab": {
          "base_uri": "https://localhost:8080/"
        },
        "id": "LVE_BYJIBOK-",
        "outputId": "ea10d2d4-760a-4b84-bbc2-29a05c953aa4"
      },
      "execution_count": 15,
      "outputs": [
        {
          "output_type": "stream",
          "name": "stdout",
          "text": [
            "2\n"
          ]
        }
      ]
    },
    {
      "cell_type": "markdown",
      "source": [
        "**12. What are the basic steps involved in exception handling in Python ?**\n",
        "\n",
        "->\n",
        "Exception handling in Python is a powerful feature that allows you to manage unexpected errors that can occur during program execution. Instead of crashing the program, you can catch the error, handle it gracefully, and let the program continue.\n",
        "\n",
        "**Step-by-Step Guide to Exception Handling in Python**\n",
        "\n",
        "**Wrap Risky Code with try Block -**\n",
        "The first step is to place the code that might throw an exception inside a try block. If an error occurs in this block, Python jumps to the matching except block instead of stopping the program.\n",
        "\n",
        "**Catch Exceptions Using except Block -**\n",
        "When an error is raised inside the try block, control is passed to the except block. You can catch specific exception types like ValueError, ZeroDivisionError, etc.\n",
        "\n",
        "**Handle Multiple Exceptions**\n",
        "You can use multiple except blocks to handle different errors differently or combine them using a tuple if you want to handle them with the same logic.\n",
        "\n",
        "**Use the else Block (Optional)**\n",
        "The else block runs only if no exception occurred in the try block. It helps you separate error-handling code from normal execution code.\n",
        "\n",
        "**Use the finally Block (Recommended)**\n",
        "The finally block always executes, whether an exception was raised or not. It’s often used for cleanup operations, like closing files or database connections.\n",
        "\n",
        "**Raise Exceptions Manually (Optional)**\n",
        "You can use the raise keyword to throw an exception intentionally when a certain condition is met.\n",
        "\n",
        "**Logging or Reporting Exceptions**\n",
        "Instead of printing error messages, you should log exceptions using Python’s logging module. This is especially useful in production code."
      ],
      "metadata": {
        "id": "IWDumR-4B17K"
      }
    },
    {
      "cell_type": "code",
      "source": [
        "#EXAMPLE\n",
        "import logging\n",
        "\n",
        "logging.basicConfig(level=logging.INFO, filename='app.log')\n",
        "\n",
        "try:\n",
        "    number = int(input(\"Enter a number: \"))\n",
        "    result = 10 / number\n",
        "except ValueError:\n",
        "    print(\"Please enter a valid number.\")\n",
        "    logging.error(\"ValueError occurred\", exc_info=True)\n",
        "except ZeroDivisionError:\n",
        "    print(\"Cannot divide by zero.\")\n",
        "    logging.error(\"ZeroDivisionError occurred\", exc_info=True)\n",
        "else:\n",
        "    print(\"Result is:\", result)\n",
        "    logging.info(\"Division successful\")\n",
        "finally:\n",
        "    print(\"Operation completed.\")"
      ],
      "metadata": {
        "colab": {
          "base_uri": "https://localhost:8080/"
        },
        "id": "d80vG8oAWw5d",
        "outputId": "6ad6396a-4f09-41d7-c2e3-768a257d5c70"
      },
      "execution_count": 1,
      "outputs": [
        {
          "output_type": "stream",
          "name": "stdout",
          "text": [
            "Enter a number: 90\n",
            "Result is: 0.1111111111111111\n",
            "Operation completed.\n"
          ]
        }
      ]
    },
    {
      "cell_type": "markdown",
      "source": [
        "**13. Why is memory management important in Python ?**\n",
        "\n",
        "->\n",
        "Memory management in Python ensures that programs use memory efficiently and avoid problems like memory leaks or crashes. Since Python handles memory automatically, it's easy to overlook—but understanding its importance helps write faster, more reliable, and scalable programs.\n",
        "\n",
        "**Prevents Memory Leaks**\n",
        "Without proper memory management, unused objects can stay in memory.\n",
        "\n",
        "Python uses reference counting and garbage collection to clean them up.\n",
        "\n",
        "**Ensures Efficient Resource Usage**\n",
        "Memory is a limited resource.\n",
        "\n",
        "Good memory management helps Python programs run efficiently on both small and large systems.\n",
        "\n",
        "**Supports Large-Scale Applications**\n",
        "In data-heavy applications (e.g., ML, databases), managing memory well is essential to prevent system crashes or slowdowns.\n",
        "\n",
        "**Improves Program Stability**\n",
        "Uncontrolled memory usage can lead to crashes, freezes, or unexpected behavior.\n",
        "\n",
        "Python's memory manager handles deallocation automatically to reduce such risks.\n",
        "\n",
        "**Avoids Performance Bottlenecks**\n",
        "Memory mismanagement can lead to excessive CPU cycles on garbage collection or swapping memory to disk.\n",
        "\n",
        "**Enables Automatic Cleanup**\n",
        "With features like with statements and destructors (__del__), Python automates cleanup of files, connections, and more.\n",
        "\n",
        "**Helps Developers Write Better Code**\n",
        "Understanding memory management lets developers use tools like gc, sys, tracemalloc, or memory profilers effectively."
      ],
      "metadata": {
        "id": "nXWU1VCaXAdK"
      }
    },
    {
      "cell_type": "code",
      "source": [
        "#EXAMPLE\n",
        "# Poor: List grows endlessly\n",
        "data = []\n",
        "while True:\n",
        "    data.append(\"leak\")  # Eventually runs out of memory\n",
        "\n",
        "# Good: Use generator to save memory\n",
        "def generate_data():\n",
        "    for i in range(1000000):\n",
        "        yield i"
      ],
      "metadata": {
        "id": "FLQu6FJDdBQQ"
      },
      "execution_count": null,
      "outputs": []
    },
    {
      "cell_type": "markdown",
      "source": [
        "**14. What is the role of try and except in exception handling ?**\n",
        "\n",
        "->\n",
        "\n",
        "The try and except blocks are the foundation of exception handling in Python. They allow your program to detect errors during execution and respond gracefully without crashing.\n",
        "\n",
        " **try Block Detects Risky Code**\n",
        "Code that might cause an error is placed inside a try block.\n",
        "\n",
        "If no error occurs, it runs normally.\n",
        "\n",
        "If an error does occur, Python immediately jumps to the corresponding except block.\n",
        "\n",
        "**except Block Catches and Handles Errors -**\n",
        "The except block executes only if an exception was raised in the try block.\n",
        "\n",
        "Prevents the program from stopping unexpectedly.\n",
        "\n",
        "**Handles Specific Exception Types -**\n",
        "You can catch specific exceptions like ValueError, TypeError, IOError, etc., to handle different issues differently.\n",
        "\n",
        "**Avoids Program Crashes -**\n",
        "Without try/except, any runtime error would stop the program.\n",
        "\n",
        "These blocks make programs more robust and user-friendly.\n",
        "\n",
        "**Can Be Combined with else and finally -**\n",
        "else: Runs if no error occurred.\n",
        "\n",
        "finally: Runs always, even if an error happened.\n",
        "\n",
        "**Supports Multiple Exception Types -**\n",
        "You can use multiple except blocks or a tuple to catch more than one error type.\n",
        "\n",
        "**Improves Code Reliability and User Experience -**\n",
        "Provides meaningful error messages instead of cryptic Python errors.\n",
        "\n",
        "Makes the application more stable and user-friendly."
      ],
      "metadata": {
        "id": "QZj3T1nKaJ_d"
      }
    },
    {
      "cell_type": "markdown",
      "source": [
        "**15. How does Python's garbage collection system work ?**\n",
        "\n",
        "->\n",
        "Python's garbage collection (GC) system is responsible for automatically managing memory by cleaning up objects that are no longer in use. This prevents memory leaks and helps your programs run efficiently without manual memory management.\n",
        "\n",
        "**Reference Counting**\n",
        "\n",
        "Each object tracks how many references point to it. When the count is 0, it's deleted.\n",
        "\n",
        "**Handles Cyclic References**\n",
        "\n",
        "Uses a garbage collector to clean up objects that reference each other (cycles).\n",
        "\n",
        "**gc Module**\n",
        "\n",
        "Python provides a gc module to manually interact with the garbage collector.\n",
        "\n",
        "**Generational Collection**\n",
        "\n",
        "Objects are grouped into 3 generations (0, 1, 2); younger objects are collected more often.\n",
        "\n",
        "**Automatic Cleanup**\n",
        "\n",
        "GC runs automatically in the background based on thresholds.\n",
        "\n",
        "**Customizable**\n",
        "\n",
        "You can enable/disable GC or adjust thresholds using the gc module.\n",
        "\n",
        "**Destructor Support**\n",
        "\n",
        "If defined, an object's __del__() method is called when it's garbage collected."
      ],
      "metadata": {
        "id": "I4vD2s37dFti"
      }
    },
    {
      "cell_type": "code",
      "source": [
        "#EXAMPLE\n",
        "import gc\n",
        "\n",
        "class Demo:\n",
        "    def __del__(self):\n",
        "        print(\"Object destroyed\")\n",
        "\n",
        "# Create a cyclic reference\n",
        "def create_cycle():\n",
        "    a = Demo()\n",
        "    b = Demo()\n",
        "    a.ref = b\n",
        "    b.ref = a\n",
        "\n",
        "create_cycle()\n",
        "\n",
        "# Manually trigger garbage collection\n",
        "collected = gc.collect()\n",
        "print(\"Garbage collector: collected\", collected, \"objects.\")"
      ],
      "metadata": {
        "colab": {
          "base_uri": "https://localhost:8080/"
        },
        "id": "91OS8XnTewEW",
        "outputId": "eb93e145-46b7-4b6e-affe-0f5aa2566247"
      },
      "execution_count": 1,
      "outputs": [
        {
          "output_type": "stream",
          "name": "stdout",
          "text": [
            "Object destroyed\n",
            "Object destroyed\n",
            "Garbage collector: collected 111 objects.\n"
          ]
        }
      ]
    },
    {
      "cell_type": "markdown",
      "source": [
        "**16. What is the purpose of the else block in exception handling ?**\n",
        "\n",
        "->\n",
        "The else block is used to run code only if no exception occurs in the try block.\n",
        "\n",
        "Runs only when the try block succeeds (no errors).\n",
        "\n",
        "Skipped if an exception is raised.\n",
        "\n",
        "Useful for separating error handling (except) from normal logic (else).\n",
        "\n",
        "Makes the code more readable and structured."
      ],
      "metadata": {
        "id": "ZqSAXwPMe1V4"
      }
    },
    {
      "cell_type": "code",
      "source": [
        "#EXAMPLE\n",
        "try:\n",
        "    x = int(input(\"Enter a number: \"))\n",
        "except ValueError:\n",
        "    print(\"Invalid input.\")\n",
        "else:\n",
        "    print(\"You entered:\", x)"
      ],
      "metadata": {
        "colab": {
          "base_uri": "https://localhost:8080/"
        },
        "id": "JfU2b3DFiCjw",
        "outputId": "70797325-e2d0-4874-85c4-70457c554cf9"
      },
      "execution_count": 3,
      "outputs": [
        {
          "output_type": "stream",
          "name": "stdout",
          "text": [
            "Enter a number: 17\n",
            "You entered: 17\n"
          ]
        }
      ]
    },
    {
      "cell_type": "markdown",
      "source": [
        "**17. What are the common logging levels in Python ?**\n",
        "\n",
        "->\n",
        "Python’s logging module provides 5 standard logging levels, used to categorize log messages based on their severity.\n",
        "\n",
        "**DEBUG -**\n",
        "Lowest level\n",
        "\n",
        "Used for detailed diagnostic information.\n",
        "\n",
        "**INFO -**\n",
        "General information about program execution.\n",
        "\n",
        "**WARNING -**\n",
        "Something unexpected happened, but the program still works.\n",
        "\n",
        "**ERROR -**\n",
        "A serious problem occurred that may affect functionality.\n",
        "\n",
        "**CRITICAL -**\n",
        "A very severe error indicating the program may not continue."
      ],
      "metadata": {
        "id": "2VHRnbRYiLgd"
      }
    },
    {
      "cell_type": "code",
      "source": [
        "#EXAMPLE\n",
        "import logging\n",
        "\n",
        "logging.basicConfig(level=logging.DEBUG)\n",
        "logging.info(\"Info message\")\n",
        "logging.error(\"Error occurred\")"
      ],
      "metadata": {
        "colab": {
          "base_uri": "https://localhost:8080/"
        },
        "id": "d6S49ZuLjwVB",
        "outputId": "2945f03b-13f6-40fa-ffe4-19f6d7a771b8"
      },
      "execution_count": 4,
      "outputs": [
        {
          "output_type": "stream",
          "name": "stderr",
          "text": [
            "ERROR:root:Error occurred\n"
          ]
        }
      ]
    },
    {
      "cell_type": "markdown",
      "source": [
        "**18. What is the difference between os.fork() and multiprocessing in Python ?**\n",
        "\n",
        "->\n",
        "**os.fork()**\n",
        "\n",
        "**Platform Dependent**\n",
        "\n",
        "Only available on Unix/Linux/macOS systems.\n",
        "Not supported on Windows.\n",
        "\n",
        "**Low-Level Process Creation**\n",
        "\n",
        "Direct system call to create a child process.\n",
        "\n",
        "Requires manual handling of process logic.\n",
        "\n",
        "**Shared Memory Space (copy-on-write)**\n",
        "\n",
        "Child initially shares memory with parent, which can lead to race conditions.\n",
        "\n",
        "**Manual Inter-Process Communication (IPC)**\n",
        "\n",
        "You must use os.pipe(), shared memory, or sockets manually.\n",
        "\n",
        "**Less Safe and Less Portable**\n",
        "\n",
        "Harder to write and debug; not suitable for cross-platform apps.\n",
        "\n",
        "->\n",
        "**multiprocessing**\n",
        "\n",
        "**Cross-Platform Support**\n",
        "\n",
        "Works on Windows, macOS, and Linux. Portable and reliable.\n",
        "\n",
        "**High-Level API**\n",
        "\n",
        "Provides Process, Queue, Pipe, Lock, and other tools for parallel processing.\n",
        "\n",
        "**Independent Memory Space**\n",
        "\n",
        "Each process has its own memory, making it safer and avoiding shared memory bugs.\n",
        "\n",
        "**Built-In IPC Support**\n",
        "\n",
        "Offers easy communication between processes with queues and pipes.\n",
        "\n",
        "**Easier to Use and Maintain**\n",
        "\n",
        "Cleaner, object-oriented design — better for general-purpose multiprocessing."
      ],
      "metadata": {
        "id": "scZ4BbWxkiTT"
      }
    },
    {
      "cell_type": "markdown",
      "source": [
        "**19. What is the importance of closing a file in Python ?**\n",
        "\n",
        "->\n",
        "Closing a file in Python is crucial to ensure proper resource management, data integrity, and system stability.\n",
        "\n",
        "**Here Are 7 Key Reasons to Close a File in Python:-**\n",
        "1. Releases System Resources\n",
        "Every open file consumes system resources.\n",
        "\n",
        "Closing a file frees up memory and file handles for other operations.\n",
        "\n",
        "2. Ensures Data Is Written (Flushed) to Disk\n",
        "Python may buffer data in memory before writing it to disk.\n",
        "\n",
        "Closing a file flushes the buffer, ensuring all data is actually saved.\n",
        "\n",
        "3. Avoids File Corruption\n",
        "If a file is not closed properly, especially after writing, it can become corrupted or incomplete.\n",
        "\n",
        "4. Prevents File Locks\n",
        "On some systems, open files may be locked, blocking access by other programs.\n",
        "\n",
        "Closing the file removes the lock.\n",
        "\n",
        "5. Reduces Risk of Bugs and Crashes\n",
        "Too many open files can exceed OS limits and cause your program to crash or misbehave.\n",
        "\n",
        "6. Makes Your Code Cleaner\n",
        "Properly closing files shows good programming discipline and reduces debugging issues.\n",
        "\n",
        "7. Helps in Long-Running Programs\n",
        "Programs that run for a long time (e.g., servers) must close files to avoid memory leaks and file descriptor exhaustion."
      ],
      "metadata": {
        "id": "3TJKcD3Ampqo"
      }
    },
    {
      "cell_type": "code",
      "source": [
        "#EXAMPLE\n",
        "file = open(\"data.txt\", \"w\")\n",
        "file.write(\"Hello, world!\")\n",
        "file.close()  # Important to ensure data is saved"
      ],
      "metadata": {
        "id": "yjhgkopbljL8"
      },
      "execution_count": 6,
      "outputs": []
    },
    {
      "cell_type": "markdown",
      "source": [
        "**20. What is the difference between file.read() and file.readline() in Python ?**\n",
        "\n",
        "->\n",
        "Both methods are used to read contents from a file, but they work differently.\n",
        "\n",
        "**✅ file.read() –**\n",
        "\n",
        "Reads the entire file content as a single string.\n",
        "\n",
        "Returns everything, including \\n (newlines).\n",
        "\n",
        "Suitable for small files that fit in memory.\n",
        "\n",
        "You can optionally specify the number of bytes to read.\n",
        "\n",
        "Loads the whole content at once — not memory efficient for large files.\n",
        "\n",
        "**✅ file.readline() –**\n",
        "Reads only one line at a time (up to the next newline \\n).\n",
        "\n",
        "Returns a string including the newline character.\n",
        "\n",
        "Ideal for reading files line by line in a loop.\n",
        "\n",
        "Efficient for large files since it loads one line at a time.\n",
        "\n",
        "You can also pass a maximum character limit."
      ],
      "metadata": {
        "id": "1uOzEgA0nVcL"
      }
    },
    {
      "cell_type": "markdown",
      "source": [
        "**21. What is the logging module in Python used for ?**\n",
        "\n",
        "->\n",
        "The logging module in Python is used to record messages about a program’s execution. These messages can be used to debug, track, and monitor your program — especially in production environments.\n",
        "\n",
        "**7 Key Uses of the logging Module**\n",
        "1. Tracks Program Flow\n",
        "Logs what the program is doing at different stages.\n",
        "\n",
        "Helpful for understanding how and when code is executed.\n",
        "\n",
        "2. Debugs Errors and Bugs\n",
        "Logs exceptions, function calls, variable states, and stack traces.\n",
        "\n",
        "Easier to trace issues than using print().\n",
        "\n",
        "3. Supports Multiple Severity Levels\n",
        "You can categorize logs by severity: DEBUG, INFO, WARNING, ERROR, CRITICAL.\n",
        "\n",
        "4. Logs to Files or Consoles\n",
        "Log messages can be written to files, console, or even remote servers.\n",
        "\n",
        "5. Enables Persistent Logging\n",
        "Unlike print(), logs can be saved for later review, helping in post-mortem debugging.\n",
        "\n",
        "6. Highly Configurable\n",
        "Allows custom formatting, log rotation, filtering, and logging from multiple modules.\n",
        "\n",
        "7. Standard for Production Code\n",
        "Used in real-world applications, web servers, APIs, and enterprise-level systems for reliable monitoring."
      ],
      "metadata": {
        "id": "TeZ8uwItojll"
      }
    },
    {
      "cell_type": "code",
      "source": [
        "#EXAMPLE\n",
        "import logging\n",
        "\n",
        "logging.basicConfig(level=logging.INFO, filename='app.log')\n",
        "logging.info(\"Program started\")\n",
        "logging.error(\"Something went wrong\")"
      ],
      "metadata": {
        "colab": {
          "base_uri": "https://localhost:8080/"
        },
        "id": "uC7x6eWjovxf",
        "outputId": "e547423b-1964-4293-d738-ec1fd54590e5"
      },
      "execution_count": 8,
      "outputs": [
        {
          "output_type": "stream",
          "name": "stderr",
          "text": [
            "ERROR:root:Something went wrong\n"
          ]
        }
      ]
    },
    {
      "cell_type": "markdown",
      "source": [
        "**22. What is the os module in Python used for in file handling ?**\n",
        "\n",
        "->\n",
        "The os module in Python provides a way to interact with the operating system, especially for file and directory operations. When it comes to file handling, the os module is particularly useful for:\n",
        "\n",
        "**Common Uses of os in File Handling:**\n",
        "\n",
        "**Navigating the File System:**\n",
        "\n",
        "os.getcwd() – Returns the current working directory.\n",
        "\n",
        "os.chdir(path) – Changes the current working directory.\n",
        "\n",
        "File and Directory Management:\n",
        "\n",
        "os.listdir(path='.') – Lists all files and folders in a directory.\n",
        "\n",
        "os.mkdir(path) – Creates a new directory.\n",
        "\n",
        "os.makedirs(path) – Creates intermediate-level directories as needed.\n",
        "\n",
        "os.remove(file_path) – Deletes a file.\n",
        "\n",
        "os.rmdir(path) – Removes an empty directory.\n",
        "\n",
        "os.removedirs(path) – Removes directories recursively.\n",
        "\n",
        "Checking File/Directory Status:\n",
        "\n",
        "os.path.exists(path) – Checks if a file or directory exists.\n",
        "\n",
        "os.path.isfile(path) – Checks if the path is a file.\n",
        "\n",
        "os.path.isdir(path) – Checks if the path is a directory.\n",
        "\n",
        "Path Manipulation (via os.path submodule):\n",
        "\n",
        "os.path.join(dir, file) – Joins directory and file name into a single path (OS-independent).\n",
        "\n",
        "os.path.basename(path) – Gets the file name from a path.\n",
        "\n",
        "os.path.dirname(path) – Gets the directory name from a path.\n",
        "\n",
        "os.path.splitext(path) – Splits the file name and extension.\n",
        "\n"
      ],
      "metadata": {
        "id": "ocyziZKzpGhY"
      }
    },
    {
      "cell_type": "code",
      "source": [
        "#EXAMPLE\n",
        "import os\n",
        "\n",
        "# Check if a file exists and delete it\n",
        "file_path = \"example.txt\"\n",
        "if os.path.exists(file_path):\n",
        "    os.remove(file_path)\n",
        "    print(f\"{file_path} has been deleted.\")\n",
        "else:\n",
        "    print(f\"{file_path} does not exist.\")\n",
        "\n",
        "# Create a new directory\n",
        "new_dir = \"my_folder\"\n",
        "if not os.path.exists(new_dir):\n",
        "    os.mkdir(new_dir)\n",
        "    print(f\"Directory '{new_dir}' created.\")\n"
      ],
      "metadata": {
        "colab": {
          "base_uri": "https://localhost:8080/"
        },
        "id": "ZmK_gGTytpAU",
        "outputId": "1b064c7e-bb92-46ed-a496-050b1d85c689"
      },
      "execution_count": 11,
      "outputs": [
        {
          "output_type": "stream",
          "name": "stdout",
          "text": [
            "example.txt does not exist.\n",
            "Directory 'my_folder' created.\n"
          ]
        }
      ]
    },
    {
      "cell_type": "markdown",
      "source": [
        "**23. What are the challenges associated with memory management in Python ?**\n",
        "\n",
        "->\n",
        "Python’s memory management is automatic, but it has some challenges:\n",
        "\n",
        "**Key Challenges: -**\n",
        "Cyclic References\n",
        "\n",
        "Reference cycles are not handled by reference counting alone; require garbage collection.\n",
        "\n",
        "Memory Leaks\n",
        "\n",
        "Holding references to unused objects can prevent memory from being freed.\n",
        "\n",
        "Global Interpreter Lock (GIL)\n",
        "\n",
        "Limits true parallel execution, affecting performance in multi-threaded apps.\n",
        "\n",
        "High Memory Consumption\n",
        "\n",
        "Python objects are larger than C/C++ equivalents due to metadata and dynamic typing.\n",
        "\n",
        "Manual Cleanup of External Resources\n",
        "\n",
        "Files, sockets, and DB connections still need explicit closure or context managers."
      ],
      "metadata": {
        "id": "ZFu0s7OZplSO"
      }
    },
    {
      "cell_type": "markdown",
      "source": [
        "**24. How Do You Raise an Exception Manually in Python?**\n",
        "\n",
        "->\n",
        "You can raise exceptions using the raise keyword.\n",
        "\n",
        "Use raise followed by the exception type.\n",
        "\n",
        "Can be used inside try blocks for validation.\n",
        "\n",
        "Custom exceptions can be created by subclassing Exception.\n",
        "\n",
        "Good for enforcing business rules or input validation.\n",
        "\n",
        "Helps in creating consistent error-handling logic."
      ],
      "metadata": {
        "id": "qr6lO9kBqdxT"
      }
    },
    {
      "cell_type": "code",
      "source": [
        "#EXAMPLE\n",
        "raise ValueError(\"This is a custom error\")"
      ],
      "metadata": {
        "id": "1NIoqadeqqOg"
      },
      "execution_count": 10,
      "outputs": []
    },
    {
      "cell_type": "markdown",
      "source": [
        "**25. Why Is It Important to Use Multithreading in Certain Applications?**\n",
        "\n",
        "->\n",
        "Multithreading allows multiple operations to run seemingly in parallel using threads.\n",
        "\n",
        "**Importance of Multithreading:-**\n",
        "\n",
        "**Improves performance for I/O-bound tasks -**\n",
        "\n",
        "Like file I/O, network requests, or database access.\n",
        "\n",
        "**Increases responsiveness -**\n",
        "\n",
        "Useful in GUI applications or real-time systems (e.g., not freezing the UI).\n",
        "\n",
        "**Reduces idle time -**\n",
        "\n",
        "While one thread waits (e.g., for I/O), others can continue running.\n",
        "\n",
        "**Efficient resource usage -**\n",
        "\n",
        "Threads share memory and run within a single process (lightweight).\n",
        "\n",
        "**Ideal for concurrent tasks -**\n",
        "\n",
        "Downloading multiple files, serving web requests, etc."
      ],
      "metadata": {
        "id": "_dg9dv0Bq7eH"
      }
    },
    {
      "cell_type": "markdown",
      "source": [
        "**PRACTICE QUESTION**"
      ],
      "metadata": {
        "id": "PNdue8mArXFi"
      }
    },
    {
      "cell_type": "code",
      "source": [
        "# 1. How can you open a file for writing in Python and write a string to it.\n",
        "with open(\"output.txt\", \"w\") as file:\n",
        "    file.write(\"Hello, this is a test.\")"
      ],
      "metadata": {
        "id": "QPTzUL1V_D5s"
      },
      "execution_count": 3,
      "outputs": []
    },
    {
      "cell_type": "code",
      "source": [
        "# 2. Write a Python program to read the contents of a file and print each line.\n",
        "\n",
        "file_name = \"example.txt\"  # Replace with your file name\n",
        "\n",
        "try:\n",
        "    with open(file_name, \"r\") as file:\n",
        "        for line in file:\n",
        "            print(line.strip())  # strip() removes the trailing newline character\n",
        "except FileNotFoundError:\n",
        "    print(f\"The file '{file_name}' was not found.\")\n"
      ],
      "metadata": {
        "colab": {
          "base_uri": "https://localhost:8080/"
        },
        "id": "925AlFLa_Rj6",
        "outputId": "76d27c6e-b794-425c-e8d4-87f41acda432"
      },
      "execution_count": 5,
      "outputs": [
        {
          "output_type": "stream",
          "name": "stdout",
          "text": [
            "The file 'example.txt' was not found.\n"
          ]
        }
      ]
    },
    {
      "cell_type": "code",
      "source": [
        "# 3. How would you handle a case where the file doesn't exist while trying to open it for reading ?\n",
        "file_name = \"nonexistent.txt\"  # Replace with your file name\n",
        "\n",
        "try:\n",
        "    with open(file_name, \"r\") as file:\n",
        "        content = file.read()\n",
        "        print(content)\n",
        "except FileNotFoundError:\n",
        "    print(f\"Error: The file '{file_name}' does not exist.\")"
      ],
      "metadata": {
        "colab": {
          "base_uri": "https://localhost:8080/"
        },
        "id": "lTe46sN9_3r_",
        "outputId": "29137e8d-c3ad-4d56-d4a4-0500510b6e42"
      },
      "execution_count": 6,
      "outputs": [
        {
          "output_type": "stream",
          "name": "stdout",
          "text": [
            "Error: The file 'nonexistent.txt' does not exist.\n"
          ]
        }
      ]
    },
    {
      "cell_type": "code",
      "source": [
        "# 4. Write a Python script that reads from one file and writes its content to another file\n",
        "# File names\n",
        "source_file = \"input.txt\"\n",
        "destination_file = \"output.txt\"\n",
        "\n",
        "try:\n",
        "    # Read from source file\n",
        "    with open(source_file, \"r\") as src:\n",
        "        content = src.read()\n",
        "\n",
        "    # Write to destination file\n",
        "    with open(destination_file, \"w\") as dest:\n",
        "        dest.write(content)\n",
        "\n",
        "    print(f\"Contents copied from '{source_file}' to '{destination_file}' successfully.\")\n",
        "\n",
        "except FileNotFoundError:\n",
        "    print(f\"Error: The file '{source_file}' does not exist.\")\n",
        "except IOError as e:\n",
        "    print(f\"An I/O error occurred: {e}\")"
      ],
      "metadata": {
        "colab": {
          "base_uri": "https://localhost:8080/"
        },
        "id": "XvYVoGeoAGtp",
        "outputId": "6ce2ce3f-63ac-45e1-d5af-85e282171a5a"
      },
      "execution_count": 7,
      "outputs": [
        {
          "output_type": "stream",
          "name": "stdout",
          "text": [
            "Error: The file 'input.txt' does not exist.\n"
          ]
        }
      ]
    },
    {
      "cell_type": "code",
      "source": [
        "# 5. How would you catch and handle division by zero error in Python.\n",
        "try:\n",
        "    result = 10 / 0\n",
        "except ZeroDivisionError:\n",
        "    print(\"Cannot divide by zero.\")"
      ],
      "metadata": {
        "colab": {
          "base_uri": "https://localhost:8080/"
        },
        "id": "P7XbI-xCAiUj",
        "outputId": "9670d233-7609-40a5-cfac-cf5b81df6943"
      },
      "execution_count": 8,
      "outputs": [
        {
          "output_type": "stream",
          "name": "stdout",
          "text": [
            "Cannot divide by zero.\n"
          ]
        }
      ]
    },
    {
      "cell_type": "code",
      "source": [
        "# 6. Write a Python program that logs an error message to a log file when a division by zero exception occurs.\n",
        "import logging\n",
        "\n",
        "logging.basicConfig(filename=\"error.log\", level=logging.ERROR)\n",
        "try:\n",
        "    x = 10 / 0\n",
        "except ZeroDivisionError as e:\n",
        "    logging.error(\"Division by zero error: %s\", e)"
      ],
      "metadata": {
        "colab": {
          "base_uri": "https://localhost:8080/"
        },
        "id": "kwnJNRhxA0a6",
        "outputId": "ea5ad41a-9c50-4c9b-e997-992985d4dfd8"
      },
      "execution_count": 9,
      "outputs": [
        {
          "output_type": "stream",
          "name": "stderr",
          "text": [
            "ERROR:root:Division by zero error: division by zero\n"
          ]
        }
      ]
    },
    {
      "cell_type": "code",
      "source": [
        "# 7. How do you log information at different levels (INFO, ERROR, WARNING) in Python using the logging module.\n",
        "import logging\n",
        "\n",
        "logging.basicConfig(level=logging.DEBUG)\n",
        "logging.info(\"This is an info message.\")\n",
        "logging.warning(\"This is a warning.\")\n",
        "logging.error(\"This is an error.\")"
      ],
      "metadata": {
        "colab": {
          "base_uri": "https://localhost:8080/"
        },
        "id": "haUU3EWdBKPW",
        "outputId": "51dd983c-5b98-40e1-bb28-a6cd626cbe0a"
      },
      "execution_count": 10,
      "outputs": [
        {
          "output_type": "stream",
          "name": "stderr",
          "text": [
            "WARNING:root:This is a warning.\n",
            "ERROR:root:This is an error.\n"
          ]
        }
      ]
    },
    {
      "cell_type": "code",
      "source": [
        "# 8. Write a program to handle a file opening error using exception handling.\n",
        "try:\n",
        "    with open(\"myfile.txt\", \"r\") as file:\n",
        "        print(file.read())\n",
        "except IOError:\n",
        "    print(\"An error occurred while opening the file.\")"
      ],
      "metadata": {
        "colab": {
          "base_uri": "https://localhost:8080/"
        },
        "id": "x6wAULRCBV-P",
        "outputId": "e49a6da2-2a12-4cbe-db35-c5f191b34e97"
      },
      "execution_count": 11,
      "outputs": [
        {
          "output_type": "stream",
          "name": "stdout",
          "text": [
            "An error occurred while opening the file.\n"
          ]
        }
      ]
    },
    {
      "cell_type": "code",
      "source": [
        "# 9.  How can you read a file line by line and store its content in a list in Python.\n",
        "file_name = \"example.txt\"\n",
        "\n",
        "try:\n",
        "    with open(file_name, \"r\") as file:\n",
        "        lines = file.readlines()\n",
        "    print(lines)  # This will be a list of strings, each representing a line\n",
        "except FileNotFoundError:\n",
        "    print(f\"The file '{file_name}' was not found.\")"
      ],
      "metadata": {
        "colab": {
          "base_uri": "https://localhost:8080/"
        },
        "id": "KLji-9AaDA8W",
        "outputId": "0661c7ab-2332-40e5-d9e5-30e387a4538d"
      },
      "execution_count": 13,
      "outputs": [
        {
          "output_type": "stream",
          "name": "stdout",
          "text": [
            "The file 'example.txt' was not found.\n"
          ]
        }
      ]
    },
    {
      "cell_type": "code",
      "source": [
        "# 10. How can you append data to an existing file in Python.\n",
        "# Open the file in append mode\n",
        "with open('example.txt', 'a') as file:\n",
        "    file.write('This line will be added at the end of the file.\\n')\n",
        "    file.write('Another appended line.\\n')"
      ],
      "metadata": {
        "id": "yl1uuXGaDg16"
      },
      "execution_count": 15,
      "outputs": []
    },
    {
      "cell_type": "code",
      "source": [
        "# 11. Write a Python program that uses a try-except block to handle an error when attempting to access a dictionary key that doesn't exist.\n",
        "my_dict = {\n",
        "    'name': 'Alice',\n",
        "    'age': 30\n",
        "}\n",
        "\n",
        "try:\n",
        "    # Try to access a key that might not exist\n",
        "    print(\"The value of 'city' is:\", my_dict['Indore'])\n",
        "except KeyError:\n",
        "    print(\"Error: The key 'city' does not exist in the dictionary.\")\n"
      ],
      "metadata": {
        "colab": {
          "base_uri": "https://localhost:8080/"
        },
        "id": "1G6nDwkPDuTH",
        "outputId": "b9688c33-5952-4301-eac9-683487ac2d32"
      },
      "execution_count": 17,
      "outputs": [
        {
          "output_type": "stream",
          "name": "stdout",
          "text": [
            "Error: The key 'city' does not exist in the dictionary.\n"
          ]
        }
      ]
    },
    {
      "cell_type": "code",
      "source": [
        "# 12.  Write a program that demonstrates using multiple except blocks to handle different types of exceptions.\n",
        "def divide_numbers(a, b):\n",
        "    try:\n",
        "        result = a / b\n",
        "        print(f\"Result: {result}\")\n",
        "\n",
        "        # Let's try to access an invalid list index for demonstration\n",
        "        sample_list = [1, 2, 3]\n",
        "        print(f\"Accessing index 5: {sample_list[5]}\")\n",
        "\n",
        "    except ZeroDivisionError:\n",
        "        print(\"Error: You can't divide by zero!\")\n",
        "\n",
        "    except IndexError:\n",
        "        print(\"Error: List index out of range!\")\n",
        "\n",
        "    except TypeError:\n",
        "        print(\"Error: Invalid data type used for division.\")\n",
        "\n",
        "# Test cases\n",
        "divide_numbers(10, 0)    # Will raise ZeroDivisionError\n",
        "divide_numbers(10, 2)    # Will raise IndexError after successful division\n",
        "divide_numbers(\"10\", 2)  # Will_"
      ],
      "metadata": {
        "colab": {
          "base_uri": "https://localhost:8080/"
        },
        "id": "iX5hpthiERSP",
        "outputId": "73414bec-266c-4e18-dbbe-922cc57b7fbb"
      },
      "execution_count": 18,
      "outputs": [
        {
          "output_type": "stream",
          "name": "stdout",
          "text": [
            "Error: You can't divide by zero!\n",
            "Result: 5.0\n",
            "Error: List index out of range!\n",
            "Error: Invalid data type used for division.\n"
          ]
        }
      ]
    },
    {
      "cell_type": "code",
      "source": [
        "# 13. How would you check if a file exists before attempting to read it in Python.\n",
        "import os\n",
        "from pathlib import Path\n",
        "\n",
        "filename_str = 'example.txt'\n",
        "\n",
        "print(\"Using os.path.exists() method:\")\n",
        "if os.path.exists(filename_str):\n",
        "    with open(filename_str, 'r') as file:\n",
        "        content = file.read()\n",
        "        print(content)\n",
        "else:\n",
        "    print(f\"The file '{filename_str}' does not exist.\")\n",
        "\n",
        "print(\"\\nUsing pathlib.Path.exists() method:\")\n",
        "filename_path = Path(filename_str)\n",
        "if filename_path.exists():\n",
        "    with filename_path.open('r') as file:\n",
        "        content = file.read()\n",
        "        print(content)\n",
        "else:\n",
        "    print(f\"The file '{filename_path}' does not exist.\")"
      ],
      "metadata": {
        "colab": {
          "base_uri": "https://localhost:8080/"
        },
        "id": "3p_9be73EfIS",
        "outputId": "dd30c349-8016-4fef-b242-79b725ea410a"
      },
      "execution_count": 19,
      "outputs": [
        {
          "output_type": "stream",
          "name": "stdout",
          "text": [
            "Using os.path.exists() method:\n",
            "This line will be added at the end of the file.\n",
            "Another appended line.\n",
            "This line will be added at the end of the file.\n",
            "Another appended line.\n",
            "\n",
            "\n",
            "Using pathlib.Path.exists() method:\n",
            "This line will be added at the end of the file.\n",
            "Another appended line.\n",
            "This line will be added at the end of the file.\n",
            "Another appended line.\n",
            "\n"
          ]
        }
      ]
    },
    {
      "cell_type": "code",
      "source": [
        "# 14. Write a program that uses the logging module to log both informational and error messages.\n",
        "import logging\n",
        "\n",
        "# Configure the logging system\n",
        "logging.basicConfig(\n",
        "    level=logging.INFO,              # Log messages with level INFO and above\n",
        "    format='%(asctime)s - %(levelname)s - %(message)s',\n",
        "    filename='app.log',              # Log messages will be saved to this file\n",
        "    filemode='w'                    # Overwrite the log file each time the program runs\n",
        ")\n",
        "\n",
        "def divide(a, b):\n",
        "    logging.info(f\"Attempting to divide {a} by {b}\")\n",
        "    try:\n",
        "        result = a / b\n",
        "        logging.info(f\"Division successful: {result}\")\n",
        "        return result\n",
        "    except ZeroDivisionError:\n",
        "        logging.error(\"Error: Division by zero attempted!\")\n",
        "        return None\n",
        "\n",
        "# Example usage\n",
        "divide(10, 2)   # Should log informational messages\n",
        "divide(10, 0)   # Should log an error message"
      ],
      "metadata": {
        "colab": {
          "base_uri": "https://localhost:8080/"
        },
        "id": "HNis_cqlE2Ee",
        "outputId": "ed117ef9-748b-4459-dcd5-cc514b830388"
      },
      "execution_count": 20,
      "outputs": [
        {
          "output_type": "stream",
          "name": "stderr",
          "text": [
            "ERROR:root:Error: Division by zero attempted!\n"
          ]
        }
      ]
    },
    {
      "cell_type": "code",
      "source": [
        "# 15. Write a Python program that prints the content of a file and handles the case when the file is empty.\n",
        "filename = 'example.txt'\n",
        "\n",
        "try:\n",
        "    with open(filename, 'r') as file:\n",
        "        content = file.read()\n",
        "        if content:\n",
        "            print(\"File content:\")\n",
        "            print(content)\n",
        "        else:\n",
        "            print(f\"The file '{filename}' is empty.\")\n",
        "except FileNotFoundError:\n",
        "    print(f\"The file '{filename}' does not exist.\")\n",
        "except Exception as e:\n",
        "    print(f\"An unexpected error occurred: {e}\")"
      ],
      "metadata": {
        "colab": {
          "base_uri": "https://localhost:8080/"
        },
        "id": "GhVdxmTXFHSX",
        "outputId": "f53fdeca-0267-46d1-fed1-1133cc9ec86c"
      },
      "execution_count": 21,
      "outputs": [
        {
          "output_type": "stream",
          "name": "stdout",
          "text": [
            "File content:\n",
            "This line will be added at the end of the file.\n",
            "Another appended line.\n",
            "This line will be added at the end of the file.\n",
            "Another appended line.\n",
            "\n"
          ]
        }
      ]
    },
    {
      "cell_type": "code",
      "source": [
        "# 17. Write a Python program to create and write a list of numbers to a file, one number per line.\n",
        "numbers = [1, 2, 3, 4, 5, 6, 7, 8, 9, 10]  # Example list of numbers\n",
        "\n",
        "filename = 'numbers.txt'\n",
        "\n",
        "with open(filename, 'w') as file:\n",
        "    for number in numbers:\n",
        "        file.write(f\"{number}\\n\")\n",
        "\n",
        "print(f\"Numbers have been written to {filename}\")"
      ],
      "metadata": {
        "colab": {
          "base_uri": "https://localhost:8080/"
        },
        "id": "8IQdOWJxGrV5",
        "outputId": "385f642a-be11-419e-9a44-34f71e4813c4"
      },
      "execution_count": 23,
      "outputs": [
        {
          "output_type": "stream",
          "name": "stdout",
          "text": [
            "Numbers have been written to numbers.txt\n"
          ]
        }
      ]
    },
    {
      "cell_type": "code",
      "source": [
        "# 18. How would you implement a basic logging setup that logs to a file with rotation after 1MB.\n",
        "import logging\n",
        "from logging.handlers import RotatingFileHandler\n",
        "\n",
        "# Create a logger\n",
        "logger = logging.getLogger('my_logger')\n",
        "logger.setLevel(logging.DEBUG)  # Log all levels DEBUG and above\n",
        "\n",
        "# Create a rotating file handler\n",
        "handler = RotatingFileHandler(\n",
        "    'app.log', maxBytes=1_000_000, backupCount=3\n",
        ")\n",
        "# maxBytes=1,000,000 bytes (1MB)\n",
        "# backupCount=3 means keep up to 3 old log files\n",
        "\n",
        "# Create a formatter and set it for the handler\n",
        "formatter = logging.Formatter('%(asctime)s - %(levelname)s - %(message)s')\n",
        "handler.setFormatter(formatter)\n",
        "\n",
        "# Add the handler to the logger\n",
        "logger.addHandler(handler)\n",
        "\n",
        "# Example logging\n",
        "logger.info(\"This is an info message\")\n",
        "logger.error(\"This is an error message\")\n",
        "\n",
        "# You can now use logger throughout your app to write logs with rotation"
      ],
      "metadata": {
        "colab": {
          "base_uri": "https://localhost:8080/"
        },
        "id": "USOMX1cLG1It",
        "outputId": "db6f7f43-4d80-4068-93e3-b51b23e22c42"
      },
      "execution_count": 24,
      "outputs": [
        {
          "output_type": "stream",
          "name": "stderr",
          "text": [
            "INFO:my_logger:This is an info message\n",
            "ERROR:my_logger:This is an error message\n"
          ]
        }
      ]
    },
    {
      "cell_type": "code",
      "source": [
        "# 20. How would you open a file and read its contents using a context manager in Python.\n",
        "filename = 'example.txt'\n",
        "\n",
        "with open(filename, 'r') as file:\n",
        "    content = file.read()\n",
        "\n",
        "print(content)"
      ],
      "metadata": {
        "colab": {
          "base_uri": "https://localhost:8080/"
        },
        "id": "sZlG--_ZIF4-",
        "outputId": "219cc36d-f903-46a6-9494-31b64c52cc3f"
      },
      "execution_count": 27,
      "outputs": [
        {
          "output_type": "stream",
          "name": "stdout",
          "text": [
            "This line will be added at the end of the file.\n",
            "Another appended line.\n",
            "This line will be added at the end of the file.\n",
            "Another appended line.\n",
            "\n"
          ]
        }
      ]
    },
    {
      "cell_type": "code",
      "source": [
        "# 21. Write a Python program that reads a file and prints the number of occurrences of a specific word.\n",
        "filename = 'example.txt'\n",
        "word_to_count = 'python'  # word to search for\n",
        "\n",
        "try:\n",
        "    with open(filename, 'r') as file:\n",
        "        content = file.read().lower()  # read and convert to lowercase for case-insensitive count\n",
        "\n",
        "    # Split content into words (basic split by whitespace)\n",
        "    words = content.split()\n",
        "\n",
        "    count = words.count(word_to_count.lower())\n",
        "    print(f\"The word '{word_to_count}' occurs {count} times in the file.\")\n",
        "\n",
        "except FileNotFoundError:\n",
        "    print(f\"The file '{filename}' does not exist.\")\n",
        "except Exception as e:\n",
        "    print(f\"An error occurred: {e}\")"
      ],
      "metadata": {
        "colab": {
          "base_uri": "https://localhost:8080/"
        },
        "id": "PfF3HvxlIpCc",
        "outputId": "a754594d-99e4-41da-a2c6-a05582463c75"
      },
      "execution_count": 28,
      "outputs": [
        {
          "output_type": "stream",
          "name": "stdout",
          "text": [
            "The word 'python' occurs 0 times in the file.\n"
          ]
        }
      ]
    },
    {
      "cell_type": "code",
      "source": [
        "# 22. How can you check if a file is empty before attempting to read its contents.\n",
        "import os\n",
        "\n",
        "def read_file_if_not_empty(filename):\n",
        "    if os.path.exists(filename):\n",
        "        if os.path.getsize(filename) > 0:\n",
        "            with open(filename, 'r') as file:\n",
        "                content = file.read()\n",
        "                print(\"File content:\")\n",
        "                print(content)\n",
        "        else:\n",
        "            print(f\"The file '{filename}' is empty.\")\n",
        "    else:\n",
        "        print(f\"The file '{filename}' does not exist.\")\n",
        "\n",
        "if __name__ == \"__main__\":\n",
        "    filename = 'example.txt'  # Change to your file name\n",
        "    read_file_if_not_empty(filename)"
      ],
      "metadata": {
        "colab": {
          "base_uri": "https://localhost:8080/"
        },
        "id": "Gh7arvwZI28U",
        "outputId": "91444a50-899d-4cbf-cf0f-d07349789135"
      },
      "execution_count": 29,
      "outputs": [
        {
          "output_type": "stream",
          "name": "stdout",
          "text": [
            "File content:\n",
            "This line will be added at the end of the file.\n",
            "Another appended line.\n",
            "This line will be added at the end of the file.\n",
            "Another appended line.\n",
            "\n"
          ]
        }
      ]
    },
    {
      "cell_type": "code",
      "source": [
        "# 23. Write a Python program that writes to a log file when an error occurs during file handling.\n",
        "import logging\n",
        "\n",
        "# Configure logging to write errors to 'error.log'\n",
        "logging.basicConfig(\n",
        "    filename='error.log',\n",
        "    level=logging.ERROR,\n",
        "    format='%(asctime)s - %(levelname)s - %(message)s'\n",
        ")\n",
        "\n",
        "def read_file(filename):\n",
        "    try:\n",
        "        with open(filename, 'r') as file:\n",
        "            content = file.read()\n",
        "            print(\"File content:\")\n",
        "            print(content)\n",
        "    except Exception as e:\n",
        "        logging.error(f\"Error occurred while handling file '{filename}': {e}\")\n",
        "        print(f\"An error occurred. Check 'error.log' for details.\")\n",
        "\n",
        "if __name__ == \"__main__\":\n",
        "    filename = 'example.txt'  # Change to your file\n",
        "    read_file(filename)"
      ],
      "metadata": {
        "colab": {
          "base_uri": "https://localhost:8080/"
        },
        "id": "CSko0HQpJG1E",
        "outputId": "8f423bb7-371f-4dec-8e85-c1efe01594ee"
      },
      "execution_count": 30,
      "outputs": [
        {
          "output_type": "stream",
          "name": "stdout",
          "text": [
            "File content:\n",
            "This line will be added at the end of the file.\n",
            "Another appended line.\n",
            "This line will be added at the end of the file.\n",
            "Another appended line.\n",
            "\n"
          ]
        }
      ]
    }
  ]
}